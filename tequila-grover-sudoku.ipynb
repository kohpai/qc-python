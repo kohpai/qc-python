{
 "cells": [
  {
   "cell_type": "code",
   "execution_count": 21,
   "metadata": {
    "collapsed": true,
    "pycharm": {
     "name": "#%%\n"
    }
   },
   "outputs": [
    {
     "name": "stdout",
     "output_type": "stream",
     "text": [
      "backend         | wfn        | sampling   | noise      | installed \n",
      "--------------------------------------------------------------------\n",
      "qulacs_gpu      | False      | False      | False      | False     \n",
      "qulacs          | False      | False      | False      | False     \n",
      "qibo            | False      | False      | False      | False     \n",
      "qiskit          | True       | True       | True       | True      \n",
      "cirq            | True       | True       | True       | True      \n",
      "pyquil          | True       | True       | True       | True      \n",
      "symbolic        | True       | False      | False      | True      \n",
      "qlm             | False      | False      | False      | False     \n"
     ]
    }
   ],
   "source": [
    "import copy\n",
    "import tequila as tq\n",
    "from tequila import gates\n",
    "tq.show_available_simulators()"
   ]
  },
  {
   "cell_type": "code",
   "execution_count": 18,
   "outputs": [],
   "source": [
    "def xor(q1: int, q2: int, output: int):\n",
    "    circuit = tq.QCircuit()\n",
    "    circuit += gates.CNOT(q1, output)\n",
    "    circuit += gates.CNOT(q2, output)\n",
    "    return circuit"
   ],
   "metadata": {
    "collapsed": false,
    "pycharm": {
     "name": "#%%\n"
    }
   }
  },
  {
   "cell_type": "code",
   "execution_count": 19,
   "outputs": [],
   "source": [
    "def sudoku_oracle(inputs: list[int], tmp: list[int], output: int):\n",
    "    circuit = tq.QCircuit()\n",
    "\n",
    "    circuit += xor(inputs[0], inputs[1], tmp[0])\n",
    "    circuit += xor(inputs[1], inputs[3], tmp[1])\n",
    "    circuit += xor(inputs[0], inputs[2], tmp[2])\n",
    "    circuit += xor(inputs[2], inputs[3], tmp[3])\n",
    "\n",
    "    circuit_t = copy.deepcopy(circuit)\n",
    "\n",
    "    circuit += gates.X(output, tmp)\n",
    "\n",
    "    circuit += circuit_t\n",
    "\n",
    "    return circuit"
   ],
   "metadata": {
    "collapsed": false,
    "pycharm": {
     "name": "#%%\n"
    }
   }
  },
  {
   "cell_type": "code",
   "execution_count": 25,
   "outputs": [],
   "source": [
    "def reflect_zero(inputs: list[int]):\n",
    "    circuit = tq.QCircuit()\n",
    "\n",
    "    circuit += gates.X(inputs)\n",
    "    circuit += gates.Z(inputs[-1], inputs[:len(inputs) - 1])\n",
    "    circuit += gates.X(inputs)\n",
    "\n",
    "    return circuit"
   ],
   "metadata": {
    "collapsed": false,
    "pycharm": {
     "name": "#%%\n"
    }
   }
  },
  {
   "cell_type": "code",
   "execution_count": 26,
   "outputs": [],
   "source": [
    "def grover_circuit():\n",
    "    inputs = [i for i in range(4)]\n",
    "    tmp = [i + 4 for i in range(4)]\n",
    "    pkb = 8\n",
    "\n",
    "    circuit = tq.QCircuit()\n",
    "\n",
    "    circuit += gates.H(inputs)\n",
    "    circuit += gates.X(pkb)\n",
    "    circuit += gates.H(pkb)\n",
    "\n",
    "    for _ in range(2):\n",
    "        circuit += sudoku_oracle(inputs, tmp, pkb)\n",
    "\n",
    "        circuit += gates.H(inputs)\n",
    "        circuit += reflect_zero(inputs)\n",
    "        circuit += gates.H(inputs)\n",
    "\n",
    "    return circuit"
   ],
   "metadata": {
    "collapsed": false,
    "pycharm": {
     "name": "#%%\n"
    }
   }
  },
  {
   "cell_type": "code",
   "execution_count": 27,
   "outputs": [
    {
     "name": "stdout",
     "output_type": "stream",
     "text": [
      "+2.0000|0001> +454.0000|0110> +4.0000|1011> +9.0000|0011> +5.0000|0101> +2.0000|1110> +5.0000|1100> +5.0000|1101> +3.0000|1111> +6.0000|1000> +496.0000|1001> +3.0000|1010> +2.0000|0100> +2.0000|0000> +2.0000|0010> \n"
     ]
    }
   ],
   "source": [
    "measurements = tq.simulate(grover_circuit(), samples=1000, read_out_qubits=[0,1,2,3])\n",
    "print(measurements)"
   ],
   "metadata": {
    "collapsed": false,
    "pycharm": {
     "name": "#%%\n"
    }
   }
  }
 ],
 "metadata": {
  "kernelspec": {
   "display_name": "Python 3",
   "language": "python",
   "name": "python3"
  },
  "language_info": {
   "codemirror_mode": {
    "name": "ipython",
    "version": 2
   },
   "file_extension": ".py",
   "mimetype": "text/x-python",
   "name": "python",
   "nbconvert_exporter": "python",
   "pygments_lexer": "ipython2",
   "version": "2.7.6"
  }
 },
 "nbformat": 4,
 "nbformat_minor": 0
}