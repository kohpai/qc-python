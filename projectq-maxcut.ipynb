{
 "cells": [
  {
   "cell_type": "code",
   "execution_count": 1,
   "outputs": [],
   "source": [
    "from projectq import MainEngine\n",
    "# from projectq.backends import CircuitDrawerMatplotlib, CommandPrinter\n",
    "# from projectq.setups.default import get_engine_list\n",
    "\n",
    "# drawer_engine = CircuitDrawerMatplotlib()\n",
    "# printer_engine = CommandPrinter()\n",
    "eng = MainEngine()"
   ],
   "metadata": {
    "collapsed": false,
    "pycharm": {
     "name": "#%%\n"
    }
   }
  },
  {
   "cell_type": "code",
   "execution_count": 2,
   "metadata": {
    "collapsed": true,
    "pycharm": {
     "name": "#%%\n"
    }
   },
   "outputs": [
    {
     "data": {
      "text/plain": "<Figure size 640x480 with 1 Axes>",
      "image/png": "[encoded data removed]"
     },
     "metadata": {},
     "output_type": "display_data"
    }
   ],
   "source": [
    "import networkx as nx\n",
    "from networkx import Graph\n",
    "\n",
    "g = Graph()\n",
    "nodes = eng.allocate_qureg(4)\n",
    "edges = [(nodes[i], nodes[(i+1) % 4]) for i in range(4)]\n",
    "g.add_nodes_from(nodes)\n",
    "g.add_edges_from(edges)\n",
    "nx.draw(g, with_labels=True, alpha=0.8, node_size=300)"
   ]
  },
  {
   "cell_type": "code",
   "execution_count": 3,
   "outputs": [],
   "source": [
    "from projectq.ops import Rx\n",
    "\n",
    "def mixer(g: Graph, beta: float):\n",
    "    for n in g:\n",
    "        Rx(2*beta) | n"
   ],
   "metadata": {
    "collapsed": false,
    "pycharm": {
     "name": "#%%\n"
    }
   }
  },
  {
   "cell_type": "code",
   "execution_count": 4,
   "outputs": [],
   "source": [
    "from projectq.ops import Rzz, CNOT\n",
    "\n",
    "def problem(g: Graph, gamma: float):\n",
    "    for i, j in g.edges():\n",
    "        Rzz(2*gamma) | (i, j)\n",
    "        # CNOT | (i, j)"
   ],
   "metadata": {
    "collapsed": false,
    "pycharm": {
     "name": "#%%\n"
    }
   }
  },
  {
   "cell_type": "code",
   "execution_count": 5,
   "outputs": [],
   "source": [
    "from functools import reduce\n",
    "from projectq.ops import All, H, Measure, X\n",
    "\n",
    "def sample_circuit(g: Graph, beta: float, gamma: float):\n",
    "    qubits = list(g.nodes())\n",
    "    All(H) | qubits\n",
    "    for _ in range(2):\n",
    "        problem(g, gamma)\n",
    "        mixer(g, beta)\n",
    "    All(Measure) | qubits\n",
    "    eng.flush()\n",
    "\n",
    "    result = reduce(lambda a, b: a + b, map(lambda x: str(int(x)), g.nodes()))\n",
    "\n",
    "    for n in g:\n",
    "        if int(n):\n",
    "            X | n\n",
    "\n",
    "    return result"
   ],
   "metadata": {
    "collapsed": false,
    "pycharm": {
     "name": "#%%\n"
    }
   }
  },
  {
   "cell_type": "code",
   "execution_count": 6,
   "outputs": [],
   "source": [
    "def maxcut_obj(x: str, g: Graph):\n",
    "    return reduce(lambda obj, e: obj - (1 if x[e[0].id] != x[e[1].id] else 0), g.edges(), 0)"
   ],
   "metadata": {
    "collapsed": false,
    "pycharm": {
     "name": "#%%\n"
    }
   }
  },
  {
   "cell_type": "code",
   "execution_count": 7,
   "outputs": [
    {
     "name": "stdout",
     "output_type": "stream",
     "text": [
      "1111\n",
      "0\n"
     ]
    }
   ],
   "source": [
    "# result = sample_circuit(g, 1.0, 1.0)\n",
    "# print(result)\n",
    "# print(maxcut_obj(result, g))\n",
    "\n",
    "result = sample_circuit(g, 0.5, 0.5)\n",
    "print(result)\n",
    "print(maxcut_obj(result, g))\n",
    "\n",
    "# with open(\"test.tex\", \"w\") as file:\n",
    "#     file.write(backend.get_latex())\n",
    "# drawer_engine.draw()"
   ],
   "metadata": {
    "collapsed": false,
    "pycharm": {
     "name": "#%%\n"
    }
   }
  },
  {
   "cell_type": "code",
   "execution_count": 8,
   "outputs": [],
   "source": [
    "from collections import Counter\n",
    "\n",
    "def compute_expectation(cuts: Counter, g: Graph):\n",
    "    sum, count = reduce(lambda t, c: (t[0] + (maxcut_obj(c, g) * cuts[c]), t[1] + cuts[c]), cuts, (0, 0))\n",
    "    return sum / count"
   ],
   "metadata": {
    "collapsed": false,
    "pycharm": {
     "name": "#%%\n"
    }
   }
  },
  {
   "cell_type": "code",
   "execution_count": 9,
   "outputs": [],
   "source": [
    "def get_expectation(g: Graph, shots=512):\n",
    "    def execute_circ(params: list[float]):\n",
    "        counter = {}\n",
    "        for _ in range(shots):\n",
    "            result = sample_circuit(g, params[0], params[1])\n",
    "            counter[result] = counter.get(result, 0) + 1\n",
    "        return compute_expectation(Counter(counter), g)\n",
    "\n",
    "    return execute_circ"
   ],
   "metadata": {
    "collapsed": false,
    "pycharm": {
     "name": "#%%\n"
    }
   }
  },
  {
   "cell_type": "code",
   "execution_count": 10,
   "outputs": [
    {
     "data": {
      "text/plain": "     fun: -3.9453125\n   maxcv: 0.0\n message: 'Optimization terminated successfully.'\n    nfev: 29\n  status: 1\n success: True\n       x: array([2.09071116, 1.07243674])"
     },
     "execution_count": 10,
     "metadata": {},
     "output_type": "execute_result"
    }
   ],
   "source": [
    "from scipy.optimize import minimize\n",
    "\n",
    "expectation = get_expectation(g)\n",
    "res = minimize(expectation, [1.0, 1.0], method='COBYLA')\n",
    "res"
   ],
   "metadata": {
    "collapsed": false,
    "pycharm": {
     "name": "#%%\n"
    }
   }
  },
  {
   "cell_type": "code",
   "execution_count": 16,
   "outputs": [
    {
     "data": {
      "text/plain": "<BarContainer object of 8 artists>"
     },
     "execution_count": 16,
     "metadata": {},
     "output_type": "execute_result"
    },
    {
     "data": {
      "text/plain": "<Figure size 640x480 with 1 Axes>",
      "image/png": "[encoded data removed]"
     },
     "metadata": {},
     "output_type": "display_data"
    }
   ],
   "source": [
    "import matplotlib.pyplot as plt\n",
    "\n",
    "counter = {}\n",
    "for _ in range(512):\n",
    "    result = sample_circuit(g, res.x[0], res.x[1])\n",
    "    counter[result] = counter.get(result, 0) + 1\n",
    "\n",
    "c = Counter(counter)\n",
    "\n",
    "plt.bar(c.keys(), c.values())"
   ],
   "metadata": {
    "collapsed": false,
    "pycharm": {
     "name": "#%%\n"
    }
   }
  }
 ],
 "metadata": {
  "kernelspec": {
   "display_name": "Python 3",
   "language": "python",
   "name": "python3"
  },
  "language_info": {
   "codemirror_mode": {
    "name": "ipython",
    "version": 2
   },
   "file_extension": ".py",
   "mimetype": "text/x-python",
   "name": "python",
   "nbconvert_exporter": "python",
   "pygments_lexer": "ipython2",
   "version": "2.7.6"
  }
 },
 "nbformat": 4,
 "nbformat_minor": 0
}