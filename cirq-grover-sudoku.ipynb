{
 "cells": [
  {
   "cell_type": "code",
   "execution_count": 10,
   "outputs": [],
   "source": [
    "from cirq import Circuit, LineQubit, Simulator, plot_state_histogram\n",
    "from cirq import CNOT, H, measure, X, Z\n",
    "import matplotlib.pyplot as plt"
   ],
   "metadata": {
    "collapsed": false,
    "pycharm": {
     "name": "#%%\n"
    }
   }
  },
  {
   "cell_type": "code",
   "execution_count": 11,
   "outputs": [],
   "source": [
    "def xor(q1: LineQubit, q2: LineQubit, output: LineQubit):\n",
    "    yield CNOT(q1, output)\n",
    "    yield CNOT(q2, output)"
   ],
   "metadata": {
    "collapsed": false,
    "pycharm": {
     "name": "#%%\n"
    }
   }
  },
  {
   "cell_type": "code",
   "execution_count": 12,
   "outputs": [],
   "source": [
    "def sudoku_oracle(inputs: list[LineQubit], tmp: list[LineQubit], output: LineQubit):\n",
    "    yield xor(inputs[0], inputs[1], tmp[0])\n",
    "    yield xor(inputs[1], inputs[3], tmp[1])\n",
    "    yield xor(inputs[0], inputs[2], tmp[2])\n",
    "    yield xor(inputs[2], inputs[3], tmp[3])\n",
    "\n",
    "    yield X.controlled(4)(*tmp, output)\n",
    "\n",
    "    yield xor(inputs[0], inputs[1], tmp[0])\n",
    "    yield xor(inputs[1], inputs[3], tmp[1])\n",
    "    yield xor(inputs[0], inputs[2], tmp[2])\n",
    "    yield xor(inputs[2], inputs[3], tmp[3])"
   ],
   "metadata": {
    "collapsed": false,
    "pycharm": {
     "name": "#%%\n"
    }
   }
  },
  {
   "cell_type": "code",
   "execution_count": 13,
   "outputs": [],
   "source": [
    "def reflect_zero(inputs: list[LineQubit]):\n",
    "    length = len(inputs)\n",
    "\n",
    "    yield X.on_each(inputs)\n",
    "    yield Z.controlled(length - 1)(*inputs[:length - 1], inputs[-1])\n",
    "    yield X.on_each(inputs)"
   ],
   "metadata": {
    "collapsed": false,
    "pycharm": {
     "name": "#%%\n"
    }
   }
  },
  {
   "cell_type": "code",
   "execution_count": 14,
   "outputs": [],
   "source": [
    "def grover_circuit():\n",
    "    inputs = [LineQubit(i) for i in range(4)]\n",
    "    tmp = [LineQubit(i+4) for i in range(4)]\n",
    "    pkb = LineQubit(8)\n",
    "\n",
    "    c = Circuit()\n",
    "\n",
    "    c.append(H.on_each(*inputs))\n",
    "    c.append([X(pkb), H(pkb)])\n",
    "\n",
    "    for _ in range(2):\n",
    "        c.append(sudoku_oracle(inputs, tmp, pkb))\n",
    "\n",
    "        c.append(H.on_each(inputs))\n",
    "        c.append(reflect_zero(inputs))\n",
    "        c.append(H.on_each(inputs))\n",
    "\n",
    "    c.append(measure(*inputs, key=\"result\"))\n",
    "\n",
    "    return c"
   ],
   "metadata": {
    "collapsed": false,
    "pycharm": {
     "name": "#%%\n"
    }
   }
  },
  {
   "cell_type": "code",
   "execution_count": 15,
   "outputs": [
    {
     "name": "stdout",
     "output_type": "stream",
     "text": [
      "Circuit:\n",
      "              ┌──┐   ┌──┐   ┌──┐               ┌──┐   ┌──┐   ┌──┐                               ┌──┐   ┌──┐   ┌──┐               ┌──┐   ┌──┐   ┌──┐\n",
      "0: ───H───@─────@──────────────────────────@─────@─────H──────X─────────────────@───X───H───@─────@──────────────────────────@─────@─────H──────X─────────────────@───X───H───M('result')───\n",
      "          │     │                          │     │                              │           │     │                          │     │                              │           │\n",
      "1: ───H───┼────@┼─────@────────────────────┼────@┼─────@──────H─────X───────────@───X───H───┼────@┼─────@────────────────────┼────@┼─────@──────H─────X───────────@───X───H───M─────────────\n",
      "          │    ││     │                    │    ││     │                        │           │    ││     │                    │    ││     │                        │           │\n",
      "2: ───H───┼────┼┼─────┼@──────@────────────┼────┼┼─────┼@──────@────H───X───────@───X───H───┼────┼┼─────┼@──────@────────────┼────┼┼─────┼@──────@────H───X───────@───X───H───M─────────────\n",
      "          │    ││     ││      │            │    ││     ││      │                │           │    ││     ││      │            │    ││     ││      │                │           │\n",
      "3: ───H───┼────┼┼─────┼┼─────@┼────@───────┼────┼┼─────┼┼─────@┼────@───H───X───Z───X───H───┼────┼┼─────┼┼─────@┼────@───────┼────┼┼─────┼┼─────@┼────@───H───X───Z───X───H───M─────────────\n",
      "          │    ││     ││     ││    │       │    ││     ││     ││    │                       │    ││     ││     ││    │       │    ││     ││     ││    │\n",
      "4: ───────X────X┼─────┼┼─────┼┼────┼───@───X────X┼─────┼┼─────┼┼────┼───────────────────────X────X┼─────┼┼─────┼┼────┼───@───X────X┼─────┼┼─────┼┼────┼─────────────────────────────────────\n",
      "                │     ││     ││    │   │         │     ││     ││    │                             │     ││     ││    │   │         │     ││     ││    │\n",
      "5: ─────────────┼─────X┼─────X┼────┼───@─────────┼─────X┼─────X┼────┼─────────────────────────────┼─────X┼─────X┼────┼───@─────────┼─────X┼─────X┼────┼─────────────────────────────────────\n",
      "                │      │      │    │   │         │      │      │    │                             │      │      │    │   │         │      │      │    │\n",
      "6: ─────────────X──────X──────┼────┼───@─────────X──────X──────┼────┼─────────────────────────────X──────X──────┼────┼───@─────────X──────X──────┼────┼─────────────────────────────────────\n",
      "                              │    │   │                       │    │                                           │    │   │                       │    │\n",
      "7: ───────────────────────────X────X───@───────────────────────X────X───────────────────────────────────────────X────X───@───────────────────────X────X─────────────────────────────────────\n",
      "                                       │                                                                                 │\n",
      "8: ───X───H────────────────────────────X─────────────────────────────────────────────────────────────────────────────────X──────────────────────────────────────────────────────────────────\n",
      "              └──┘   └──┘   └──┘               └──┘   └──┘   └──┘                               └──┘   └──┘   └──┘               └──┘   └──┘   └──┘\n"
     ]
    }
   ],
   "source": [
    "c = grover_circuit()\n",
    "\n",
    "print('Circuit:')\n",
    "print(c)"
   ],
   "metadata": {
    "collapsed": false,
    "pycharm": {
     "name": "#%%\n"
    }
   }
  },
  {
   "cell_type": "code",
   "execution_count": 18,
   "outputs": [
    {
     "data": {
      "text/plain": "<Figure size 432x288 with 1 Axes>",
      "image/png": "[encoded data removed]"
     },
     "metadata": {
      "needs_background": "light"
     },
     "output_type": "display_data"
    }
   ],
   "source": [
    "result = Simulator().run(c, repetitions=1000)\n",
    "plot_state_histogram(result, plt.subplot())\n",
    "\n",
    "plt.show()"
   ],
   "metadata": {
    "collapsed": false,
    "pycharm": {
     "name": "#%%\n"
    }
   }
  }
 ],
 "metadata": {
  "kernelspec": {
   "display_name": "Python 3",
   "language": "python",
   "name": "python3"
  },
  "language_info": {
   "codemirror_mode": {
    "name": "ipython",
    "version": 2
   },
   "file_extension": ".py",
   "mimetype": "text/x-python",
   "name": "python",
   "nbconvert_exporter": "python",
   "pygments_lexer": "ipython2",
   "version": "2.7.6"
  }
 },
 "nbformat": 4,
 "nbformat_minor": 0
}