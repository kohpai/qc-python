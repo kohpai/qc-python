{
 "cells": [
  {
   "cell_type": "code",
   "execution_count": 2,
   "metadata": {
    "collapsed": true,
    "pycharm": {
     "name": "#%%\n"
    }
   },
   "outputs": [
    {
     "name": "stdout",
     "output_type": "stream",
     "text": [
      "0: ───Rx(2*alpha)───\n"
     ]
    }
   ],
   "source": [
    "from cirq import Circuit, LineQubit, Rx, Simulator\n",
    "from sympy import Symbol\n",
    "\n",
    "alpha = Symbol(\"alpha\")\n",
    "qubit = LineQubit(0)\n",
    "circuit = Circuit(Rx(rads=2*alpha)(qubit))\n",
    "result = Simulator().run(circuit, {alpha: 3.14})\n",
    "\n",
    "print(circuit)"
   ]
  },
  {
   "cell_type": "code",
   "execution_count": 4,
   "outputs": [
    {
     "name": "stdout",
     "output_type": "stream",
     "text": [
      "Counter({1: 265, 0: 247})\n"
     ]
    }
   ],
   "source": [
    "from cirq import Circuit, H, measure, Simulator\n",
    "\n",
    "qubit = LineQubit(0)\n",
    "circuit = Circuit(H(qubit), measure(qubit, key=\"m\"))\n",
    "result = Simulator().run(circuit, repetitions=512)\n",
    "\n",
    "print(result.histogram(key=\"m\"))"
   ],
   "metadata": {
    "collapsed": false,
    "pycharm": {
     "name": "#%%\n"
    }
   }
  }
 ],
 "metadata": {
  "kernelspec": {
   "display_name": "Python 3",
   "language": "python",
   "name": "python3"
  },
  "language_info": {
   "codemirror_mode": {
    "name": "ipython",
    "version": 2
   },
   "file_extension": ".py",
   "mimetype": "text/x-python",
   "name": "python",
   "nbconvert_exporter": "python",
   "pygments_lexer": "ipython2",
   "version": "2.7.6"
  }
 },
 "nbformat": 4,
 "nbformat_minor": 0
}