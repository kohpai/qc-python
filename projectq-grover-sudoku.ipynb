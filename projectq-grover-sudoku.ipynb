{
 "cells": [
  {
   "cell_type": "code",
   "execution_count": 1,
   "outputs": [],
   "source": [
    "import matplotlib.pyplot as plt\n",
    "\n",
    "from projectq import MainEngine\n",
    "from projectq.meta import Compute, Control, Dagger, Uncompute\n",
    "from projectq.ops import All, CNOT, H, Measure, X, Z\n",
    "from projectq.types import Qureg, Qubit"
   ],
   "metadata": {
    "collapsed": false
   }
  },
  {
   "cell_type": "code",
   "execution_count": 2,
   "outputs": [],
   "source": [
    "def xor(q1: Qubit, q2: Qubit, output: Qubit):\n",
    "    CNOT | (q1, output)\n",
    "    CNOT | (q2, output)"
   ],
   "metadata": {
    "collapsed": false
   }
  },
  {
   "cell_type": "code",
   "execution_count": 3,
   "outputs": [],
   "source": [
    "def sudoku_oracle(e: MainEngine, inputs: Qureg[Qubit], tmp: Qureg[Qubit], output: Qubit):\n",
    "    with Compute(e):\n",
    "        xor(inputs[0], inputs[1], tmp[0])\n",
    "        xor(inputs[1], inputs[3], tmp[1])\n",
    "        xor(inputs[0], inputs[2], tmp[2])\n",
    "        xor(inputs[2], inputs[3], tmp[3])\n",
    "    with Control(e, tmp):\n",
    "        X | output\n",
    "    Uncompute(e)"
   ],
   "metadata": {
    "collapsed": false
   }
  },
  {
   "cell_type": "code",
   "execution_count": 4,
   "outputs": [],
   "source": [
    "def reflect_zero(e: MainEngine, inputs: Qureg[Qubit]):\n",
    "    with Compute(e):\n",
    "        All(X) | inputs\n",
    "    with Control(e, inputs[:len(inputs) - 1]):\n",
    "        Z | inputs[-1]\n",
    "    Uncompute(e)"
   ],
   "metadata": {
    "collapsed": false
   }
  },
  {
   "cell_type": "code",
   "execution_count": 5,
   "outputs": [],
   "source": [
    "from collections.abc import Callable\n",
    "\n",
    "def reflect_initial(e: MainEngine, init_op: Callable[[MainEngine, Qureg], None], qubits: Qureg):\n",
    "    with Compute(e):\n",
    "        with Dagger(e):\n",
    "            init_op(e, qubits)\n",
    "\n",
    "    reflect_zero(e, qubits)\n",
    "    Uncompute(e)"
   ],
   "metadata": {
    "collapsed": false
   }
  },
  {
   "cell_type": "code",
   "execution_count": 6,
   "outputs": [],
   "source": [
    "def grover_circuit():\n",
    "    eng = MainEngine()\n",
    "\n",
    "    inputs = eng.allocate_qureg(4)\n",
    "    tmp = eng.allocate_qureg(4)\n",
    "    pkb = eng.allocate_qubit()\n",
    "\n",
    "    def prepare_initial_state(_: MainEngine, qubits: Qureg):\n",
    "        All(H) | qubits\n",
    "\n",
    "    prepare_initial_state(eng, inputs)\n",
    "\n",
    "    X | pkb\n",
    "    H | pkb\n",
    "\n",
    "    for _ in range(2):\n",
    "        sudoku_oracle(eng, inputs, tmp, pkb)\n",
    "        reflect_initial(eng, prepare_initial_state, inputs)\n",
    "\n",
    "    All(Measure) | inputs\n",
    "    # garbage\n",
    "    All(Measure) | tmp\n",
    "    Measure | pkb\n",
    "\n",
    "    eng.flush()\n",
    "\n",
    "    return map(lambda x: int(x), inputs)"
   ],
   "metadata": {
    "collapsed": false
   }
  },
  {
   "cell_type": "code",
   "execution_count": 7,
   "outputs": [
    {
     "data": {
      "text/plain": "<Figure size 640x480 with 1 Axes>",
      "image/png": "[encoded data removed]"
     },
     "metadata": {},
     "output_type": "display_data"
    }
   ],
   "source": [
    "data = [''.join(map(lambda x: str(x), grover_circuit())) for _ in range(512)]\n",
    "plt.hist(sorted(data), density=True, bins=20)\n",
    "plt.ylabel('Prob')\n",
    "plt.xlabel('Data')\n",
    "plt.xticks(rotation='vertical')\n",
    "plt.show()"
   ],
   "metadata": {
    "collapsed": false
   }
  }
 ],
 "metadata": {
  "kernelspec": {
   "display_name": "Python 3",
   "language": "python",
   "name": "python3"
  },
  "language_info": {
   "codemirror_mode": {
    "name": "ipython",
    "version": 2
   },
   "file_extension": ".py",
   "mimetype": "text/x-python",
   "name": "python",
   "nbconvert_exporter": "python",
   "pygments_lexer": "ipython2",
   "version": "2.7.6"
  }
 },
 "nbformat": 4,
 "nbformat_minor": 0
}
