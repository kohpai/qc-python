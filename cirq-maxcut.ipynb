{
 "cells": [
  {
   "cell_type": "code",
   "execution_count": 11,
   "metadata": {
    "collapsed": true,
    "pycharm": {
     "name": "#%%\n"
    }
   },
   "outputs": [
    {
     "data": {
      "text/plain": "<Figure size 432x288 with 1 Axes>",
      "image/png": "[encoded data removed]"
     },
     "metadata": {},
     "output_type": "display_data"
    }
   ],
   "source": [
    "import networkx as nx\n",
    "from networkx import Graph\n",
    "from cirq import LineQubit\n",
    "\n",
    "g = Graph()\n",
    "nodes = [LineQubit(i) for i in range(4)]\n",
    "edges = [(nodes[i], nodes[(i+1) % 4]) for i in range(4)]\n",
    "g.add_nodes_from(nodes)\n",
    "g.add_edges_from(edges)\n",
    "nx.draw(g, with_labels=True, alpha=0.8, node_size=500)"
   ]
  },
  {
   "cell_type": "code",
   "execution_count": 12,
   "outputs": [],
   "source": [
    "from cirq import Rx\n",
    "from sympy import Symbol\n",
    "\n",
    "def mixer(g: Graph, beta: Symbol):\n",
    "    return [ Rx(rads=2*beta)(q) for q in list(g.nodes())]"
   ],
   "metadata": {
    "collapsed": false,
    "pycharm": {
     "name": "#%%\n"
    }
   }
  },
  {
   "cell_type": "code",
   "execution_count": 13,
   "outputs": [],
   "source": [
    "from openfermion import Rzz\n",
    "\n",
    "def problem(g: Graph, gamma: Symbol):\n",
    "    return [ Rzz(rads=2*gamma)(i, j) for i, j in g.edges()]"
   ],
   "metadata": {
    "collapsed": false,
    "pycharm": {
     "name": "#%%\n"
    }
   }
  },
  {
   "cell_type": "code",
   "execution_count": 14,
   "outputs": [],
   "source": [
    "from cirq import Circuit, H, measure, Moment\n",
    "\n",
    "beta = Symbol(\"beta\")\n",
    "gamma = Symbol(\"gamma\")\n",
    "\n",
    "qaoa_circuit = Circuit(\n",
    "    H.on_each(*nodes),\n",
    "    problem(g, gamma),\n",
    "    Moment(mixer(g, beta)),\n",
    "    problem(g, gamma),\n",
    "    Moment(mixer(g, beta)),\n",
    "    (measure(q) for q in nodes)\n",
    ")"
   ],
   "metadata": {
    "collapsed": false,
    "pycharm": {
     "name": "#%%\n"
    }
   }
  },
  {
   "cell_type": "code",
   "execution_count": 6,
   "outputs": [
    {
     "name": "stdout",
     "output_type": "stream",
     "text": [
      "                            ┌──────────────────────────────┐                                                    ┌──────────────────────────────┐\n",
      "0: ───H───ZZ─────────────────ZZ──────────────────────────────────────────────────Rx(2*beta)───ZZ─────────────────ZZ──────────────────────────────────────────────────Rx(2*beta)───M───\n",
      "          │                  │                                                                │                  │\n",
      "1: ───H───ZZ^(4*gamma/pi)────┼──────────────ZZ───────────────────────────────────Rx(2*beta)───ZZ^(4*gamma/pi)────┼──────────────ZZ───────────────────────────────────Rx(2*beta)───M───\n",
      "                             │              │                                                                    │              │\n",
      "2: ───H──────────────────────┼──────────────ZZ^(4*gamma/pi)────ZZ────────────────Rx(2*beta)──────────────────────┼──────────────ZZ^(4*gamma/pi)────ZZ────────────────Rx(2*beta)───M───\n",
      "                             │                                 │                                                 │                                 │\n",
      "3: ───H──────────────────────ZZ^(4*gamma/pi)───────────────────ZZ^(4*gamma/pi)───Rx(2*beta)──────────────────────ZZ^(4*gamma/pi)───────────────────ZZ^(4*gamma/pi)───Rx(2*beta)───M───\n",
      "                            └──────────────────────────────┘                                                    └──────────────────────────────┘\n"
     ]
    }
   ],
   "source": [
    "from cirq.contrib.svg import SVGCircuit\n",
    "\n",
    "# SVGCircuit(qaoa_circuit)\n",
    "print(qaoa_circuit)"
   ],
   "metadata": {
    "collapsed": false,
    "pycharm": {
     "name": "#%%\n"
    }
   }
  },
  {
   "cell_type": "code",
   "execution_count": 15,
   "outputs": [],
   "source": [
    "import pandas as pd\n",
    "import numpy as np\n",
    "\n",
    "def estimate_cost(graph: Graph, samples: pd.DataFrame) -> float:\n",
    "    \"\"\"Estimate the cost function of the QAOA on the given graph using the\n",
    "    provided computational basis bitstrings.\"\"\"\n",
    "    cost_value = 0.0\n",
    "\n",
    "    # Loop over edge pairs and compute contribution.\n",
    "    for u, v in graph.edges():\n",
    "        u_samples = samples[str(u)]\n",
    "        v_samples = samples[str(v)]\n",
    "\n",
    "        # Determine if it was a +1 or -1 eigenvalue.\n",
    "        u_signs = (-1) ** u_samples\n",
    "        v_signs = (-1) ** v_samples\n",
    "        term_signs = u_signs * v_signs\n",
    "\n",
    "        # Add scaled term to total cost.\n",
    "        term_val = np.mean(term_signs)\n",
    "        cost_value += term_val\n",
    "\n",
    "    return -cost_value"
   ],
   "metadata": {
    "collapsed": false,
    "pycharm": {
     "name": "#%%\n"
    }
   }
  },
  {
   "cell_type": "code",
   "execution_count": 18,
   "outputs": [
    {
     "name": "stdout",
     "output_type": "stream",
     "text": [
      "[(0.0, 0.0), (0.0, 0.3490658503988659), (0.0, 0.6981317007977318), (0.0, 1.0471975511965976), (0.0, 1.3962634015954636), (0.0, 1.7453292519943295), (0.0, 2.0943951023931953), (0.0, 2.443460952792061), (0.0, 2.792526803190927), (0.0, 3.141592653589793)]\n",
      "[[[0.         0.        ]\n",
      "  [0.         0.34906585]\n",
      "  [0.         0.6981317 ]\n",
      "  [0.         1.04719755]\n",
      "  [0.         1.3962634 ]\n",
      "  [0.         1.74532925]\n",
      "  [0.         2.0943951 ]\n",
      "  [0.         2.44346095]\n",
      "  [0.         2.7925268 ]\n",
      "  [0.         3.14159265]]\n",
      "\n",
      " [[0.34906585 0.        ]\n",
      "  [0.34906585 0.34906585]\n",
      "  [0.34906585 0.6981317 ]\n",
      "  [0.34906585 1.04719755]\n",
      "  [0.34906585 1.3962634 ]\n",
      "  [0.34906585 1.74532925]\n",
      "  [0.34906585 2.0943951 ]\n",
      "  [0.34906585 2.44346095]\n",
      "  [0.34906585 2.7925268 ]\n",
      "  [0.34906585 3.14159265]]\n",
      "\n",
      " [[0.6981317  0.        ]\n",
      "  [0.6981317  0.34906585]\n",
      "  [0.6981317  0.6981317 ]\n",
      "  [0.6981317  1.04719755]\n",
      "  [0.6981317  1.3962634 ]\n",
      "  [0.6981317  1.74532925]\n",
      "  [0.6981317  2.0943951 ]\n",
      "  [0.6981317  2.44346095]\n",
      "  [0.6981317  2.7925268 ]\n",
      "  [0.6981317  3.14159265]]\n",
      "\n",
      " [[1.04719755 0.        ]\n",
      "  [1.04719755 0.34906585]\n",
      "  [1.04719755 0.6981317 ]\n",
      "  [1.04719755 1.04719755]\n",
      "  [1.04719755 1.3962634 ]\n",
      "  [1.04719755 1.74532925]\n",
      "  [1.04719755 2.0943951 ]\n",
      "  [1.04719755 2.44346095]\n",
      "  [1.04719755 2.7925268 ]\n",
      "  [1.04719755 3.14159265]]\n",
      "\n",
      " [[1.3962634  0.        ]\n",
      "  [1.3962634  0.34906585]\n",
      "  [1.3962634  0.6981317 ]\n",
      "  [1.3962634  1.04719755]\n",
      "  [1.3962634  1.3962634 ]\n",
      "  [1.3962634  1.74532925]\n",
      "  [1.3962634  2.0943951 ]\n",
      "  [1.3962634  2.44346095]\n",
      "  [1.3962634  2.7925268 ]\n",
      "  [1.3962634  3.14159265]]\n",
      "\n",
      " [[1.74532925 0.        ]\n",
      "  [1.74532925 0.34906585]\n",
      "  [1.74532925 0.6981317 ]\n",
      "  [1.74532925 1.04719755]\n",
      "  [1.74532925 1.3962634 ]\n",
      "  [1.74532925 1.74532925]\n",
      "  [1.74532925 2.0943951 ]\n",
      "  [1.74532925 2.44346095]\n",
      "  [1.74532925 2.7925268 ]\n",
      "  [1.74532925 3.14159265]]\n",
      "\n",
      " [[2.0943951  0.        ]\n",
      "  [2.0943951  0.34906585]\n",
      "  [2.0943951  0.6981317 ]\n",
      "  [2.0943951  1.04719755]\n",
      "  [2.0943951  1.3962634 ]\n",
      "  [2.0943951  1.74532925]\n",
      "  [2.0943951  2.0943951 ]\n",
      "  [2.0943951  2.44346095]\n",
      "  [2.0943951  2.7925268 ]\n",
      "  [2.0943951  3.14159265]]\n",
      "\n",
      " [[2.44346095 0.        ]\n",
      "  [2.44346095 0.34906585]\n",
      "  [2.44346095 0.6981317 ]\n",
      "  [2.44346095 1.04719755]\n",
      "  [2.44346095 1.3962634 ]\n",
      "  [2.44346095 1.74532925]\n",
      "  [2.44346095 2.0943951 ]\n",
      "  [2.44346095 2.44346095]\n",
      "  [2.44346095 2.7925268 ]\n",
      "  [2.44346095 3.14159265]]\n",
      "\n",
      " [[2.7925268  0.        ]\n",
      "  [2.7925268  0.34906585]\n",
      "  [2.7925268  0.6981317 ]\n",
      "  [2.7925268  1.04719755]\n",
      "  [2.7925268  1.3962634 ]\n",
      "  [2.7925268  1.74532925]\n",
      "  [2.7925268  2.0943951 ]\n",
      "  [2.7925268  2.44346095]\n",
      "  [2.7925268  2.7925268 ]\n",
      "  [2.7925268  3.14159265]]\n",
      "\n",
      " [[3.14159265 0.        ]\n",
      "  [3.14159265 0.34906585]\n",
      "  [3.14159265 0.6981317 ]\n",
      "  [3.14159265 1.04719755]\n",
      "  [3.14159265 1.3962634 ]\n",
      "  [3.14159265 1.74532925]\n",
      "  [3.14159265 2.0943951 ]\n",
      "  [3.14159265 2.44346095]\n",
      "  [3.14159265 2.7925268 ]\n",
      "  [3.14159265 3.14159265]]]\n",
      "test\n"
     ]
    }
   ],
   "source": [
    "from cirq import Linspace, Simulator\n",
    "\n",
    "grid_size = 10\n",
    "\n",
    "gamma_sweep = Linspace(gamma, 0, np.pi, grid_size)\n",
    "beta_sweep = Linspace(beta, 0, np.pi, grid_size)\n",
    "# cartesian product of two sweeps\n",
    "combinations = gamma_sweep * beta_sweep\n",
    "sim = Simulator()\n",
    "samples = sim.run_sweep(\n",
    "    qaoa_circuit, params=gamma_sweep * beta_sweep, repetitions=20_000\n",
    ")\n",
    "\n",
    "exp_values = np.reshape(samples, (-1, grid_size)).tolist()\n",
    "estimate = np.vectorize(lambda s: estimate_cost(g, s.data))\n",
    "exp_values = estimate(exp_values)\n",
    "par_tuples = [tuple(y[1] for y in x) for x in (gamma_sweep * beta_sweep).param_tuples()]\n",
    "print(par_tuples[:10])\n",
    "par_values = np.reshape(par_tuples, (-1, grid_size, 2))\n",
    "print(par_values[:10])\n",
    "print(\"test\")"
   ],
   "metadata": {
    "collapsed": false,
    "pycharm": {
     "name": "#%%\n"
    }
   }
  },
  {
   "cell_type": "code",
   "execution_count": 20,
   "outputs": [
    {
     "name": "stdout",
     "output_type": "stream",
     "text": [
      "(('gamma', 0.0), ('beta', 0.0))\n",
      "(('gamma', 0.0), ('beta', 0.3490658503988659))\n",
      "(('gamma', 0.0), ('beta', 0.6981317007977318))\n",
      "(('gamma', 0.0), ('beta', 1.0471975511965976))\n",
      "(('gamma', 0.0), ('beta', 1.3962634015954636))\n",
      "(('gamma', 0.0), ('beta', 1.7453292519943295))\n",
      "(('gamma', 0.0), ('beta', 2.0943951023931953))\n",
      "(('gamma', 0.0), ('beta', 2.443460952792061))\n",
      "(('gamma', 0.0), ('beta', 2.792526803190927))\n",
      "(('gamma', 0.0), ('beta', 3.141592653589793))\n",
      "(('gamma', 0.3490658503988659), ('beta', 0.0))\n",
      "(('gamma', 0.3490658503988659), ('beta', 0.3490658503988659))\n",
      "(('gamma', 0.3490658503988659), ('beta', 0.6981317007977318))\n",
      "(('gamma', 0.3490658503988659), ('beta', 1.0471975511965976))\n",
      "(('gamma', 0.3490658503988659), ('beta', 1.3962634015954636))\n",
      "(('gamma', 0.3490658503988659), ('beta', 1.7453292519943295))\n",
      "(('gamma', 0.3490658503988659), ('beta', 2.0943951023931953))\n",
      "(('gamma', 0.3490658503988659), ('beta', 2.443460952792061))\n",
      "(('gamma', 0.3490658503988659), ('beta', 2.792526803190927))\n",
      "(('gamma', 0.3490658503988659), ('beta', 3.141592653589793))\n"
     ]
    }
   ],
   "source": [
    "temp = (gamma_sweep * beta_sweep).param_tuples()\n",
    "for i, x in enumerate(temp):\n",
    "    print(x)\n",
    "    if i == 19:\n",
    "        break"
   ],
   "metadata": {
    "collapsed": false,
    "pycharm": {
     "name": "#%%\n"
    }
   }
  },
  {
   "cell_type": "code",
   "execution_count": 9,
   "outputs": [
    {
     "data": {
      "text/plain": "<Figure size 432x288 with 1 Axes>",
      "image/png": "[encoded data removed]"
     },
     "metadata": {
      "needs_background": "light"
     },
     "output_type": "display_data"
    }
   ],
   "source": [
    "import matplotlib.pyplot as plt\n",
    "\n",
    "plt.title(\"Heatmap of QAOA Cost Function Value\")\n",
    "plt.xlabel(r\"$\\gamma$\")\n",
    "plt.ylabel(r\"$\\beta$\")\n",
    "plt.imshow(exp_values)\n",
    "plt.show()"
   ],
   "metadata": {
    "collapsed": false,
    "pycharm": {
     "name": "#%%\n"
    }
   }
  },
  {
   "cell_type": "code",
   "execution_count": 10,
   "outputs": [
    {
     "name": "stdout",
     "output_type": "stream",
     "text": [
      "Gamma = 1.257 Beta = 2.199\n",
      "Estimated cost: 2.7012\n"
     ]
    }
   ],
   "source": [
    "gamma_value = 2 * np.pi / 5\n",
    "beta_value = 7 * np.pi / 10\n",
    "\n",
    "sample_results = sim.sample(\n",
    "    qaoa_circuit, params={gamma: gamma_value, beta: beta_value}, repetitions=20_000\n",
    ")\n",
    "print(f\"Gamma = {round(gamma_value, 3)} Beta = {round(beta_value, 3)}\")\n",
    "print(f\"Estimated cost: {estimate_cost(g, sample_results)}\")"
   ],
   "metadata": {
    "collapsed": false,
    "pycharm": {
     "name": "#%%\n"
    }
   }
  }
 ],
 "metadata": {
  "kernelspec": {
   "display_name": "Python 3",
   "language": "python",
   "name": "python3"
  },
  "language_info": {
   "codemirror_mode": {
    "name": "ipython",
    "version": 2
   },
   "file_extension": ".py",
   "mimetype": "text/x-python",
   "name": "python",
   "nbconvert_exporter": "python",
   "pygments_lexer": "ipython2",
   "version": "2.7.6"
  }
 },
 "nbformat": 4,
 "nbformat_minor": 0
}