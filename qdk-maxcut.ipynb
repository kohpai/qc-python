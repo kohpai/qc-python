{
 "cells": [
  {
   "cell_type": "code",
   "execution_count": 1,
   "metadata": {
    "collapsed": true,
    "pycharm": {
     "name": "#%%\n"
    }
   },
   "outputs": [
    {
     "name": "stdout",
     "output_type": "stream",
     "text": [
      "Preparing Q# environment...\n"
     ]
    }
   ],
   "source": [
    "import qsharp\n",
    "from MaxCut import PrepareAnsatzes"
   ]
  },
  {
   "cell_type": "code",
   "execution_count": 2,
   "outputs": [],
   "source": [
    "from functools import reduce\n",
    "\n",
    "def maxcut_obj(x: str):\n",
    "    return reduce(lambda obj, e: obj - (1 if x[e[0]] != x[e[1]] else 0), [(0, 1), (1, 2), (2, 3), (3, 0)], 0)"
   ],
   "metadata": {
    "collapsed": false,
    "pycharm": {
     "name": "#%%\n"
    }
   }
  },
  {
   "cell_type": "code",
   "execution_count": 3,
   "outputs": [],
   "source": [
    "from collections import Counter\n",
    "\n",
    "def compute_expectation(cuts: Counter):\n",
    "    sum, count = reduce(lambda t, c: (t[0] + (maxcut_obj(c) * cuts[c]), t[1] + cuts[c]), cuts, (0, 0))\n",
    "    return sum / count"
   ],
   "metadata": {
    "collapsed": false,
    "pycharm": {
     "name": "#%%\n"
    }
   }
  },
  {
   "cell_type": "code",
   "execution_count": 4,
   "outputs": [],
   "source": [
    "def get_expectation(shots=512):\n",
    "    def execute_circ(params: list[float]):\n",
    "        results = PrepareAnsatzes.simulate(beta=params[0], gamma=params[1], shots=shots)\n",
    "        return compute_expectation(Counter(results))\n",
    "\n",
    "    return execute_circ"
   ],
   "metadata": {
    "collapsed": false,
    "pycharm": {
     "name": "#%%\n"
    }
   }
  },
  {
   "cell_type": "code",
   "execution_count": 5,
   "outputs": [
    {
     "data": {
      "text/plain": "     fun: -3.953125\n   maxcv: 0.0\n message: 'Optimization terminated successfully.'\n    nfev: 29\n  status: 1\n success: True\n       x: array([1.04680665, 1.06645316])"
     },
     "execution_count": 5,
     "metadata": {},
     "output_type": "execute_result"
    }
   ],
   "source": [
    "from scipy.optimize import minimize\n",
    "\n",
    "expectation = get_expectation()\n",
    "res = minimize(expectation, [1.0, 1.0], method='COBYLA')\n",
    "res"
   ],
   "metadata": {
    "collapsed": false,
    "pycharm": {
     "name": "#%%\n"
    }
   }
  },
  {
   "cell_type": "code",
   "execution_count": 6,
   "outputs": [
    {
     "data": {
      "text/plain": "<BarContainer object of 8 artists>"
     },
     "execution_count": 6,
     "metadata": {},
     "output_type": "execute_result"
    },
    {
     "data": {
      "text/plain": "<Figure size 640x480 with 1 Axes>",
      "image/png": "[encoded data removed]"
     },
     "metadata": {},
     "output_type": "display_data"
    }
   ],
   "source": [
    "import matplotlib.pyplot as plt\n",
    "\n",
    "results = PrepareAnsatzes.simulate(beta=res.x[0], gamma=res.x[1], shots=512)\n",
    "counter = Counter(results)\n",
    "\n",
    "plt.bar(counter.keys(), counter.values())"
   ],
   "metadata": {
    "collapsed": false,
    "pycharm": {
     "name": "#%%\n"
    }
   }
  }
 ],
 "metadata": {
  "kernelspec": {
   "display_name": "Python 3",
   "language": "python",
   "name": "python3"
  },
  "language_info": {
   "codemirror_mode": {
    "name": "ipython",
    "version": 2
   },
   "file_extension": ".py",
   "mimetype": "text/x-python",
   "name": "python",
   "nbconvert_exporter": "python",
   "pygments_lexer": "ipython2",
   "version": "2.7.6"
  }
 },
 "nbformat": 4,
 "nbformat_minor": 0
}