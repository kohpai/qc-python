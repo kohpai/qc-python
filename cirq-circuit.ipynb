{
 "cells": [
  {
   "cell_type": "code",
   "execution_count": 7,
   "metadata": {
    "collapsed": true,
    "pycharm": {
     "name": "#%%\n"
    }
   },
   "outputs": [],
   "source": [
    "from cirq import LineQubit, X, H, Circuit, inverse, Simulator, Z\n",
    "from cirq.contrib.svg import SVGCircuit\n",
    "from cirq.contrib.qcircuit import circuit_to_latex_using_qcircuit"
   ]
  },
  {
   "cell_type": "code",
   "execution_count": 2,
   "outputs": [],
   "source": [
    "def my_operator(q: LineQubit):\n",
    "    return [X(q),\n",
    "            H(q)]"
   ],
   "metadata": {
    "collapsed": false,
    "pycharm": {
     "name": "#%%\n"
    }
   }
  },
  {
   "cell_type": "code",
   "execution_count": 3,
   "outputs": [],
   "source": [
    "q = LineQubit(0)\n",
    "ops1 = my_operator(q)\n",
    "ops2 = inverse(ops1)\n",
    "c = Circuit(ops1, Z(q), ops2)"
   ],
   "metadata": {
    "collapsed": false,
    "pycharm": {
     "name": "#%%\n"
    }
   }
  },
  {
   "cell_type": "code",
   "execution_count": 4,
   "outputs": [
    {
     "name": "stdout",
     "output_type": "stream",
     "text": [
      "0: ───X───H───Z───H───X───\n"
     ]
    }
   ],
   "source": [
    "print(c)"
   ],
   "metadata": {
    "collapsed": false,
    "pycharm": {
     "name": "#%%\n"
    }
   }
  },
  {
   "cell_type": "code",
   "execution_count": 5,
   "outputs": [
    {
     "name": "stderr",
     "output_type": "stream",
     "text": [
      "findfont: Font family ['Arial'] not found. Falling back to DejaVu Sans.\n"
     ]
    },
    {
     "data": {
      "text/plain": "<cirq.contrib.svg.svg.SVGCircuit at 0x7fe41feeb6a0>",
      "image/svg+xml": "<svg xmlns=\"http://www.w3.org/2000/svg\" width=\"400.0\" height=\"50.0\"><line x1=\"30.0\" x2=\"370.0\" y1=\"25.0\" y2=\"25.0\" stroke=\"#1967d2\" stroke-width=\"1\" /><rect x=\"10.0\" y=\"5.0\" width=\"40\" height=\"40\" stroke=\"black\" fill=\"white\" stroke-width=\"0\" /><text x=\"30.0\" y=\"25.0\" dominant-baseline=\"middle\" text-anchor=\"middle\" font-size=\"14px\" font-family=\"Arial\">0: </text><rect x=\"70.0\" y=\"5.0\" width=\"40\" height=\"40\" stroke=\"black\" fill=\"white\" stroke-width=\"1\" /><text x=\"90.0\" y=\"25.0\" dominant-baseline=\"middle\" text-anchor=\"middle\" font-size=\"18px\" font-family=\"Arial\">X</text><rect x=\"130.0\" y=\"5.0\" width=\"40\" height=\"40\" stroke=\"black\" fill=\"white\" stroke-width=\"1\" /><text x=\"150.0\" y=\"25.0\" dominant-baseline=\"middle\" text-anchor=\"middle\" font-size=\"18px\" font-family=\"Arial\">H</text><rect x=\"190.0\" y=\"5.0\" width=\"40\" height=\"40\" stroke=\"black\" fill=\"white\" stroke-width=\"1\" /><text x=\"210.0\" y=\"25.0\" dominant-baseline=\"middle\" text-anchor=\"middle\" font-size=\"18px\" font-family=\"Arial\">Z</text><rect x=\"250.0\" y=\"5.0\" width=\"40\" height=\"40\" stroke=\"black\" fill=\"white\" stroke-width=\"1\" /><text x=\"270.0\" y=\"25.0\" dominant-baseline=\"middle\" text-anchor=\"middle\" font-size=\"18px\" font-family=\"Arial\">H</text><rect x=\"310.0\" y=\"5.0\" width=\"40\" height=\"40\" stroke=\"black\" fill=\"white\" stroke-width=\"1\" /><text x=\"330.0\" y=\"25.0\" dominant-baseline=\"middle\" text-anchor=\"middle\" font-size=\"18px\" font-family=\"Arial\">X</text></svg>"
     },
     "execution_count": 5,
     "metadata": {},
     "output_type": "execute_result"
    }
   ],
   "source": [
    "SVGCircuit(c)"
   ],
   "metadata": {
    "collapsed": false,
    "pycharm": {
     "name": "#%%\n"
    }
   }
  },
  {
   "cell_type": "code",
   "execution_count": 9,
   "outputs": [],
   "source": [
    "import errno\n",
    "import os\n",
    "\n",
    "from cirq import circuits\n",
    "from pylatex import Document, NoEscape, Package\n",
    "\n",
    "def circuit_to_pdf_using_qcircuit_via_tex(\n",
    "    circuit: circuits.Circuit,\n",
    "    filepath: str,\n",
    "    pdf_kwargs=None,\n",
    "    qcircuit_kwargs=None,\n",
    "    clean_ext=('dvi', 'ps'),\n",
    "    documentclass='article',\n",
    "):\n",
    "    \"\"\"Compiles the QCircuit-based latex diagram of the given circuit.\n",
    "    Args:\n",
    "        circuit: The circuit to produce a pdf of.\n",
    "        filepath: Where to output the pdf.\n",
    "        pdf_kwargs: The arguments to pass to generate_pdf.\n",
    "        qcircuit_kwargs: The arguments to pass to\n",
    "            circuit_to_latex_using_qcircuit.\n",
    "        clean_ext: The file extensions to clean up after compilation. By\n",
    "            default, latexmk is used with the '-pdfps' flag, which produces\n",
    "            intermediary dvi and ps files.\n",
    "        documentclass: The documentclass of the latex file.\n",
    "    Raises:\n",
    "        OSError, IOError: If cleanup fails.\n",
    "    \"\"\"\n",
    "    pdf_kwargs = {\n",
    "        'compiler': 'latexmk',\n",
    "        'compiler_args': ['-pdfps'],\n",
    "        **({} if pdf_kwargs is None else pdf_kwargs),\n",
    "    }\n",
    "    qcircuit_kwargs = {} if qcircuit_kwargs is None else qcircuit_kwargs\n",
    "    tex = circuit_to_latex_using_qcircuit(circuit, **qcircuit_kwargs)\n",
    "    doc = Document(documentclass=documentclass, document_options='dvips')\n",
    "    doc.packages.append(Package('amsmath'))\n",
    "    doc.packages.append(Package('qcircuit'))\n",
    "    doc.preamble.append(Package('inputenc', options=['utf8']))\n",
    "    doc.append(NoEscape(tex))\n",
    "    doc.generate_pdf(filepath, **pdf_kwargs)\n",
    "    for ext in clean_ext:\n",
    "        try:\n",
    "            os.remove(filepath + '.' + ext)\n",
    "        except (OSError, IOError) as e:\n",
    "            if e.errno != errno.ENOENT:\n",
    "                raise"
   ],
   "metadata": {
    "collapsed": false,
    "pycharm": {
     "name": "#%%\n"
    }
   }
  },
  {
   "cell_type": "code",
   "execution_count": 12,
   "outputs": [],
   "source": [
    "circuit_to_pdf_using_qcircuit_via_tex(c, \"test\")"
   ],
   "metadata": {
    "collapsed": false,
    "pycharm": {
     "name": "#%%\n"
    }
   }
  }
 ],
 "metadata": {
  "kernelspec": {
   "display_name": "Python 3",
   "language": "python",
   "name": "python3"
  },
  "language_info": {
   "codemirror_mode": {
    "name": "ipython",
    "version": 2
   },
   "file_extension": ".py",
   "mimetype": "text/x-python",
   "name": "python",
   "nbconvert_exporter": "python",
   "pygments_lexer": "ipython2",
   "version": "2.7.6"
  }
 },
 "nbformat": 4,
 "nbformat_minor": 0
}