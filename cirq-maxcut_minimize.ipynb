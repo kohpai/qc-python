{
 "cells": [
  {
   "cell_type": "code",
   "execution_count": 22,
   "metadata": {
    "collapsed": true,
    "pycharm": {
     "name": "#%%\n"
    }
   },
   "outputs": [
    {
     "data": {
      "text/plain": "<Figure size 432x288 with 1 Axes>",
      "image/png": "[encoded data removed]"
     },
     "metadata": {},
     "output_type": "display_data"
    }
   ],
   "source": [
    "import networkx as nx\n",
    "from networkx import Graph\n",
    "from cirq import LineQubit\n",
    "\n",
    "g = Graph()\n",
    "nodes = [LineQubit(i) for i in range(4)]\n",
    "edges = [(nodes[i], nodes[(i + 1) % 4]) for i in range(4)]\n",
    "g.add_nodes_from(nodes)\n",
    "g.add_edges_from(edges)\n",
    "nx.draw(g, with_labels=True, alpha=0.8, node_size=500)"
   ]
  },
  {
   "cell_type": "code",
   "execution_count": 23,
   "outputs": [],
   "source": [
    "from cirq import Rx\n",
    "from sympy import Symbol\n",
    "\n",
    "\n",
    "def mixer(g: Graph, beta: Symbol):\n",
    "    return [Rx(rads=2 * beta)(q) for q in list(g.nodes())]"
   ],
   "metadata": {
    "collapsed": false,
    "pycharm": {
     "name": "#%%\n"
    }
   }
  },
  {
   "cell_type": "code",
   "execution_count": 24,
   "outputs": [],
   "source": [
    "from openfermion import Rzz\n",
    "\n",
    "\n",
    "def problem(g: Graph, gamma: Symbol):\n",
    "    return [Rzz(rads=2 * gamma)(i, j) for i, j in g.edges()]"
   ],
   "metadata": {
    "collapsed": false,
    "pycharm": {
     "name": "#%%\n"
    }
   }
  },
  {
   "cell_type": "code",
   "execution_count": 25,
   "outputs": [],
   "source": [
    "from cirq import Circuit, H, measure, Moment\n",
    "\n",
    "\n",
    "def create_qaoa_circ(g: Graph, beta: Symbol, gamma: Symbol):\n",
    "    return Circuit(\n",
    "        H.on_each(*nodes),\n",
    "        problem(g, gamma),\n",
    "        mixer(g, beta),\n",
    "        problem(g, gamma),\n",
    "        mixer(g, beta),\n",
    "        measure(*nodes, key=\"cut\")\n",
    "    )"
   ],
   "metadata": {
    "collapsed": false,
    "pycharm": {
     "name": "#%%\n"
    }
   }
  },
  {
   "cell_type": "code",
   "execution_count": 26,
   "outputs": [],
   "source": [
    "from functools import reduce\n",
    "\n",
    "def maxcut_obj(x: str, g: Graph):\n",
    "    return reduce(lambda obj, e: obj - (1 if x[e[0].x] != x[e[1].x] else 0), g.edges(), 0)"
   ],
   "metadata": {
    "collapsed": false,
    "pycharm": {
     "name": "#%%\n"
    }
   }
  },
  {
   "cell_type": "code",
   "execution_count": 27,
   "outputs": [],
   "source": [
    "from collections import Counter\n",
    "\n",
    "def compute_expectation(cuts: Counter, g: Graph):\n",
    "    sum, count = reduce(lambda t, c: (t[0] + (maxcut_obj(c, g) * cuts[c]), t[1] + cuts[c]), cuts, (0, 0))\n",
    "    return sum / count"
   ],
   "metadata": {
    "collapsed": false,
    "pycharm": {
     "name": "#%%\n"
    }
   }
  },
  {
   "cell_type": "code",
   "execution_count": 28,
   "outputs": [],
   "source": [
    "from cirq import Simulator\n",
    "\n",
    "\n",
    "def get_expectation(g: Graph, shots=512):\n",
    "    sim = Simulator()\n",
    "\n",
    "    def execute_circ(params: list[float]):\n",
    "        beta = Symbol(\"beta\")\n",
    "        gamma = Symbol(\"gamma\")\n",
    "        qc = create_qaoa_circ(g, beta, gamma)\n",
    "        result = sim.run(qc, {beta: params[0], gamma: [params[1]]}, shots)\n",
    "        return compute_expectation(result.histogram(key=\"cut\", fold_func=lambda x: ''.join(list(map(lambda i: str(i), x)))), g)\n",
    "\n",
    "    return execute_circ"
   ],
   "metadata": {
    "collapsed": false,
    "pycharm": {
     "name": "#%%\n"
    }
   }
  },
  {
   "cell_type": "code",
   "execution_count": 29,
   "outputs": [
    {
     "data": {
      "text/plain": "     fun: -3.96875\n   maxcv: 0.0\n message: 'Optimization terminated successfully.'\n    nfev: 30\n  status: 1\n success: True\n       x: array([1.07494456, 1.04195764])"
     },
     "execution_count": 29,
     "metadata": {},
     "output_type": "execute_result"
    }
   ],
   "source": [
    "from scipy.optimize import minimize\n",
    "\n",
    "expectation = get_expectation(g)\n",
    "res = minimize(expectation, [1.0, 1.0], method='COBYLA')\n",
    "res"
   ],
   "metadata": {
    "collapsed": false,
    "pycharm": {
     "name": "#%%\n"
    }
   }
  },
  {
   "cell_type": "code",
   "execution_count": 30,
   "outputs": [
    {
     "data": {
      "text/plain": "<Figure size 432x288 with 1 Axes>",
      "image/png": "[encoded data removed]"
     },
     "metadata": {
      "needs_background": "light"
     },
     "output_type": "display_data"
    }
   ],
   "source": [
    "from cirq import plot_state_histogram\n",
    "import matplotlib.pyplot as plt\n",
    "\n",
    "beta = Symbol(\"beta\")\n",
    "gamma = Symbol(\"gamma\")\n",
    "qc = create_qaoa_circ(g, beta, gamma)\n",
    "result = Simulator().run(qc, {beta: res.x[0], gamma: res.x[1]}, 512)\n",
    "plot_state_histogram(result, plt.subplot())\n",
    "\n",
    "plt.show()"
   ],
   "metadata": {
    "collapsed": false,
    "pycharm": {
     "name": "#%%\n"
    }
   }
  }
 ],
 "metadata": {
  "kernelspec": {
   "display_name": "Python 3",
   "language": "python",
   "name": "python3"
  },
  "language_info": {
   "codemirror_mode": {
    "name": "ipython",
    "version": 2
   },
   "file_extension": ".py",
   "mimetype": "text/x-python",
   "name": "python",
   "nbconvert_exporter": "python",
   "pygments_lexer": "ipython2",
   "version": "2.7.6"
  }
 },
 "nbformat": 4,
 "nbformat_minor": 0
}